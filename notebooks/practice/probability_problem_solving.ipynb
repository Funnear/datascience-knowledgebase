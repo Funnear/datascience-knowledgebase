{
 "cells": [
  {
   "cell_type": "code",
   "execution_count": 1,
   "metadata": {},
   "outputs": [
    {
     "name": "stdout",
     "output_type": "stream",
     "text": [
      "/Users/bubblegum_doubledrops/Library/Mobile Documents/com~apple~CloudDocs/0prio - Important heavy backups/IronHack/my_projects/datascience-knowledgebase/libs\n"
     ]
    }
   ],
   "source": [
    "import math\n",
    "\n",
    "import sys\n",
    "import os\n",
    "\n",
    "# Get absolute path to the module\n",
    "module_path = os.path.abspath(\"../../libs\")\n",
    "\n",
    "# Add the directory to sys.path\n",
    "if module_path not in sys.path:\n",
    "    sys.path.append(module_path)\n",
    "\n",
    "print(module_path)\n",
    "\n",
    "# import data_ravers_utils as utils\n",
    "import  data_ravers_utils.probability as utils"
   ]
  },
  {
   "cell_type": "markdown",
   "metadata": {},
   "source": [
    "### There is a box with 10 white balls, 12 red balls and 8 black balls."
   ]
  },
  {
   "cell_type": "code",
   "execution_count": 2,
   "metadata": {},
   "outputs": [],
   "source": [
    "balls = utils.OneDimensionalSet(\"balls\")\n",
    "balls.add_subset(\"white\", 10)\n",
    "balls.add_subset(\"red\", 12)\n",
    "balls.add_subset(\"black\", 8)"
   ]
  },
  {
   "cell_type": "markdown",
   "metadata": {},
   "source": [
    "Left for later (too easy)\n",
    "- Calculate the probability of taking a white ball out.\n",
    "- Calculate the probability of taking a white ball on first extraction and a black ball out on second extraction without replacing the first one.\n",
    "- Calculate the probability of taking a white ball on first extraction and a black ball out on second extraction replacing the first one."
   ]
  },
  {
   "cell_type": "markdown",
   "metadata": {},
   "source": [
    "#### Calculate the probability of taking 3 balls and them being all different colours."
   ]
  },
  {
   "cell_type": "code",
   "execution_count": 3,
   "metadata": {},
   "outputs": [
    {
     "name": "stdout",
     "output_type": "stream",
     "text": [
      "0.03940886699507389\n"
     ]
    }
   ],
   "source": [
    "print(balls.prob_all_unique())"
   ]
  },
  {
   "cell_type": "code",
   "execution_count": 4,
   "metadata": {},
   "outputs": [
    {
     "name": "stdout",
     "output_type": "stream",
     "text": [
      "white_balls_count = 10\n",
      "red_balls_count = 12\n",
      "black_balls_count = 8\n",
      "\n",
      "total_balls = + white_balls_count+ red_balls_count+ black_balls_count\n",
      "\n",
      "numerator = (* white_balls_count* red_balls_count* black_balls_count)\n",
      "denominator = (total_balls* (total_balls-1)* (total_balls-2))\n",
      "quotient = numerator / denominator\n",
      "print(quotient)\n",
      "\n",
      "\n"
     ]
    }
   ],
   "source": [
    "print(balls.prob_all_unique(notebook_code=True))"
   ]
  },
  {
   "cell_type": "code",
   "execution_count": 5,
   "metadata": {},
   "outputs": [
    {
     "name": "stdout",
     "output_type": "stream",
     "text": [
      "0.03940886699507389\n"
     ]
    }
   ],
   "source": [
    "white_balls_count = 10\n",
    "red_balls_count = 12\n",
    "black_balls_count = 8\n",
    "\n",
    "total_balls = white_balls_count+ red_balls_count+ black_balls_count\n",
    "\n",
    "numerator = (white_balls_count* red_balls_count* black_balls_count)\n",
    "denominator = (total_balls* (total_balls-1)* (total_balls-2))\n",
    "quotient = numerator / denominator\n",
    "print(quotient)"
   ]
  }
 ],
 "metadata": {
  "kernelspec": {
   "display_name": "DS KB (venv)",
   "language": "python",
   "name": "venv"
  },
  "language_info": {
   "codemirror_mode": {
    "name": "ipython",
    "version": 3
   },
   "file_extension": ".py",
   "mimetype": "text/x-python",
   "name": "python",
   "nbconvert_exporter": "python",
   "pygments_lexer": "ipython3",
   "version": "3.13.2"
  }
 },
 "nbformat": 4,
 "nbformat_minor": 2
}
