{
 "cells": [
  {
   "cell_type": "markdown",
   "metadata": {},
   "source": [
    "## Logical Fallacies and Cognitive Biases\n",
    "\n",
    "- [List of Logical Fallacies](https://en.wikipedia.org/wiki/List_of_fallacies)\n",
    "- [Interactive 24 Logical Fallacies in argumenting](https://www.yourlogicalfallacyis.com/)\n",
    "- [Interactive 24 Cognitive Biases](https://www.yourbias.is/)"
   ]
  },
  {
   "cell_type": "markdown",
   "metadata": {},
   "source": [
    "## Quantifiers (from Descrete Maths and Math Logic)"
   ]
  },
  {
   "cell_type": "markdown",
   "metadata": {},
   "source": [
    "- $ \\forall $ - Universal Quantifier\n",
    "  - $ \\forall x \\, P(x) $ - meaning \"every x\", \"P(x) is true for all x\".\n",
    "\n",
    "- $ \\exists $ - Existential Quantifier\n",
    "  - $ \\exists x \\, P(x) $ - meaning \"some x\", \"an x exists for which P(x) is true\"."
   ]
  },
  {
   "cell_type": "markdown",
   "metadata": {},
   "source": [
    "### Negation of the Universal Quantifier\n",
    "\n",
    "$$ \\neg (\\forall x \\, P(x)) \\equiv \\exists x \\neg P(x) $$\n",
    "\n",
    "**Meaning:**\n",
    "“It is not true that P(x) holds for all x” is the same as “There exists at least one x for which P(x) is false.”"
   ]
  },
  {
   "cell_type": "markdown",
   "metadata": {},
   "source": [
    "### Negation of the Existential Quantifier\n",
    "\n",
    "$$ \\neg (\\exists x \\, P(x)) \\equiv \\forall x \\neg P(x) $$\n",
    "\n",
    "**Meaning:**\n",
    "“It is not true that there exists an x such that P(x) is true” is the same as “For all x, P(x) is false.”"
   ]
  }
 ],
 "metadata": {
  "language_info": {
   "name": "python"
  }
 },
 "nbformat": 4,
 "nbformat_minor": 2
}
