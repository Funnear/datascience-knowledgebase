{
 "cells": [
  {
   "cell_type": "markdown",
   "metadata": {},
   "source": [
    "## Hypothesis-Testing"
   ]
  },
  {
   "cell_type": "markdown",
   "metadata": {},
   "source": [
    "H0, H1 (Ha), scientific method"
   ]
  },
  {
   "cell_type": "markdown",
   "metadata": {},
   "source": [
    "|  | $H_0$ is True | $H_0$ is False\n",
    "|------|------|------|\n",
    "| Reject $H_0$ | $\\alpha$ | $1-\\beta$ |   \n",
    "| Fail to reject $H_0$| $1-\\alpha$ | $\\beta$ | \n",
    "\n",
    "Correct decisions: $1-\\alpha$ and  $1-\\beta$\n"
   ]
  },
  {
   "cell_type": "markdown",
   "metadata": {},
   "source": [
    "| $\\alpha$ | $\\beta$ |\n",
    "|------|------|\n",
    "| Type I Error  | Type II Error |\n",
    "| False positive | False negative |"
   ]
  },
  {
   "cell_type": "markdown",
   "metadata": {},
   "source": [
    "- Increasing alpha (allowing a higher false positive rate) usually increases power (reduces false negatives).\n",
    "- Decreasing alpha (reducing false positives) increases beta (more false negatives), reducing power.\n"
   ]
  },
  {
   "cell_type": "markdown",
   "metadata": {},
   "source": [
    "### Example in medical tests"
   ]
  },
  {
   "cell_type": "markdown",
   "metadata": {
    "vscode": {
     "languageId": "plaintext"
    }
   },
   "source": [
    "| H? | Hypothesis| Test result | Conclusion |\n",
    "|------|------|------|------|\n",
    "|  $H_0$ | Person does not have the disease. | Negative result | H0 accepted |\n",
    "|  $H_1$ | Person has the disease. | Positive result | H0 rejected |\n",
    "\n",
    "- False positive:\n",
    "  - The test incorrectly indicates the person has the disease when they do not.\n",
    "- False negative:\n",
    "  - The test incorrectly indicates the person does not have the disease when they actually do."
   ]
  },
  {
   "cell_type": "markdown",
   "metadata": {},
   "source": []
  }
 ],
 "metadata": {
  "language_info": {
   "name": "python"
  }
 },
 "nbformat": 4,
 "nbformat_minor": 2
}
